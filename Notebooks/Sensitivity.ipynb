{
 "cells": [
  {
   "cell_type": "code",
   "execution_count": 1,
   "metadata": {},
   "outputs": [],
   "source": [
    "import numpy as np\n",
    "import matplotlib.pyplot as plt\n",
    "import csky as cy\n",
    "from scipy import stats\n",
    "import glob\n",
    "import matplotlib.cm as cm\n",
    "import matplotlib as mpl\n",
    "import os\n",
    "import photospline as psp\n",
    "from csky import hyp\n",
    "\n",
    "\n",
    "\n",
    "mpl.rcParams['xtick.labelsize']=18\n",
    "mpl.rcParams['ytick.labelsize']=18\n",
    "mpl.rcParams['axes.labelsize']=24\n",
    "mpl.rcParams['lines.linewidth']=3\n",
    "mpl.rcParams['patch.linewidth']=3\n",
    "mpl.rcParams['legend.fontsize']=14\n",
    "mpl.rcParams['axes.titlesize']=24\n",
    "mpl.rcParams.update({'figure.autolayout': True})\n",
    "mpl.rcParams['figure.figsize'] = 10, 6\n",
    "mpl.rcParams['font.family'] = 'sans-serif'"
   ]
  },
  {
   "cell_type": "code",
   "execution_count": 6,
   "metadata": {},
   "outputs": [],
   "source": [
    "ntv5_data = np.load('/data/user/wluszczak/KDE_csky/bgtrials/all_bgtrials.npy', allow_pickle=True)\n",
    "\n",
    "ntv5_bg = []\n",
    "bg_gammas = []\n",
    "for trial in ntv5_data:\n",
    "    tslist = trial['ts']\n",
    "    gamlist = trial['gamma']\n",
    "    sfts = tslist[0]\n",
    "    ntv5_bg.append(sfts)\n",
    "    bg_gammas.append(gamlist[0])\n",
    "    \n",
    "psv2bg = np.load('/data/user/wluszczak/KDE_csky/bgtrials/psv2/psv2_bgtrials.npy', allow_pickle=True)\n",
    "\n",
    "psv2_bg = []\n",
    "for trial in psv2bg:\n",
    "    tslist = trial['ts']\n",
    "    gamlist = trial['gamma']\n",
    "    sfts = tslist[0]\n",
    "    psv2_bg.append(sfts)\n",
    "psv2_bg = np.array(psv2_bg)\n",
    "\n",
    "psv3bg = np.load('/data/user/wluszczak/KDE_csky/bgtrials/psv3/psv3_bgtrials.npy', allow_pickle=True)\n",
    "\n",
    "psv3_bg = []\n",
    "for trial in psv3bg:\n",
    "    tslist = trial['ts']\n",
    "    gamlist = trial['gamma']\n",
    "    sfts = tslist[0]\n",
    "    psv3_bg.append(sfts)\n",
    "\n",
    "psv3_bg = np.array(psv3_bg)"
   ]
  },
  {
   "cell_type": "code",
   "execution_count": 3,
   "metadata": {},
   "outputs": [
    {
     "name": "stdout",
     "output_type": "stream",
     "text": [
      "100000\n",
      "80800\n"
     ]
    },
    {
     "data": {
      "text/plain": [
       "(0, 52.5)"
      ]
     },
     "execution_count": 3,
     "metadata": {},
     "output_type": "execute_result"
    },
    {
     "name": "stderr",
     "output_type": "stream",
     "text": [
      "/cvmfs/icecube.opensciencegrid.org/py3-v4.1.1/RHEL_7_x86_64/lib/python3.7/site-packages/matplotlib/figure.py:2299: UserWarning: This figure includes Axes that are not compatible with tight_layout, so results might be incorrect.\n",
      "  warnings.warn(\"This figure includes Axes that are not compatible \"\n"
     ]
    },
    {
     "data": {
      "image/png": "[encoded data removed]",
      "text/plain": [
       "<Figure size 432x288 with 1 Axes>"
      ]
     },
     "metadata": {
      "needs_background": "light"
     },
     "output_type": "display_data"
    }
   ],
   "source": [
    "print(len(psv2_bg))\n",
    "psv2bghist, psv2bgbins = np.histogram(psv2_bg, bins = np.linspace(0,50,50), density=True)\n",
    "psv2bghist = np.concatenate([psv2bghist,[0]])\n",
    "plt.semilogy(psv2bgbins, psv2bghist, drawstyle='steps-post', label='PSv2')\n",
    "\n",
    "psv3bghist, psv3bgbins = np.histogram(psv3_bg, bins = np.linspace(0,50,50), density=True)\n",
    "psv3bghist = np.concatenate([psv3bghist,[0]])\n",
    "plt.semilogy(psv3bgbins, psv3bghist, drawstyle='steps-post', label='PSv3')\n",
    "\n",
    "ntv5bghist, ntv5bgbins = np.histogram(ntv5_bg, bins = np.linspace(0,50,50), density=True)\n",
    "ntv5bghist = np.concatenate([ntv5bghist,[0]])\n",
    "plt.semilogy(ntv5bgbins, ntv5bghist, drawstyle='steps-post', label='NTv5')\n",
    "print(len(ntv5_bg))\n",
    "\n",
    "plt.xlabel('TS')\n",
    "plt.ylabel('PDF')\n",
    "plt.legend(loc=0)\n",
    "plt.xlim(0,)"
   ]
  },
  {
   "cell_type": "code",
   "execution_count": 7,
   "metadata": {},
   "outputs": [
    {
     "name": "stdout",
     "output_type": "stream",
     "text": [
      "2.0 0.742 1000\n",
      "4.0 0.882 1000\n",
      "6.0 0.952 1000\n",
      "8.0 0.977 1000\n",
      "10.0 0.995 1000\n",
      "12.0 0.998 1000\n",
      "14.0 1.0 100\n"
     ]
    }
   ],
   "source": [
    "psv2bghist, psv2bgbins = np.histogram(psv2_bg, bins = np.linspace(0,50,50), density=True)\n",
    "psv2bghist = np.concatenate([psv2bghist,[0]])\n",
    "#plt.semilogy(psv2bgbins, psv2bghist, drawstyle='steps-post')\n",
    "\n",
    "bgmed_psv2 = np.median(psv2_bg)\n",
    "\n",
    "ps_v2_effs = []\n",
    "nss = []\n",
    "for ns in np.arange(2.0, 16.0, 2.0):\n",
    "    psv2sig = np.load('/data/user/wluszczak/KDE_csky/sigtrials/psv2/psv2_sigtrials_%s_ns.npy'%(ns), allow_pickle=True)\n",
    "\n",
    "    psv2_sig = []\n",
    "    for trial in psv2sig:\n",
    "        tslist = trial['ts']\n",
    "        gamlist = trial['gamma']\n",
    "        sfts = tslist[0]\n",
    "        psv2_sig.append(sfts)\n",
    "    #print(psv2_sig)    \n",
    "    psv2_sig = np.array(psv2_sig)\n",
    "    print(ns, len(psv2_sig[psv2_sig>bgmed_psv2])/float(len(psv2_sig)), len(psv2_sig))\n",
    "    eff = len(psv2_sig[psv2_sig>bgmed_psv2])/float(len(psv2_sig))\n",
    "    psv2sighist, psv2sigbins = np.histogram(psv2_sig, bins = np.linspace(0,50,50), density=True)\n",
    "    psv2sighist = np.concatenate([psv2sighist,[0]])\n",
    "    #plt.semilogy(psv2sigbins, psv2sighist, drawstyle='steps-post', color='tab:orange')\n",
    "    ps_v2_effs.append(eff)\n",
    "    nss.append(ns)"
   ]
  },
  {
   "cell_type": "code",
   "execution_count": 8,
   "metadata": {},
   "outputs": [
    {
     "name": "stdout",
     "output_type": "stream",
     "text": [
      "2.0 0.765 1000\n",
      "4.0 0.869 1000\n",
      "6.0 0.943 1000\n",
      "8.0 0.98 1000\n",
      "10.0 0.995 1000\n",
      "12.0 0.997 1000\n",
      "14.0 1.0 100\n"
     ]
    }
   ],
   "source": [
    "psv3bghist, psv3bgbins = np.histogram(psv3_bg, bins = np.linspace(0,50,50), density=True)\n",
    "psv3bghist = np.concatenate([psv3bghist,[0]])\n",
    "#plt.semilogy(psv3bgbins, psv3bghist, drawstyle='steps-post')\n",
    "\n",
    "bgmed_psv3 = np.median(psv3_bg)\n",
    "\n",
    "ps_v3_effs = []\n",
    "nss = []\n",
    "for ns in np.arange(2.0, 16.0, 2.0):\n",
    "    psv3sig = np.load('/data/user/wluszczak/KDE_csky/sigtrials/psv3/psv3_sigtrials_%s_ns.npy'%(ns), allow_pickle=True)\n",
    "\n",
    "    psv3_sig = []\n",
    "    for trial in psv3sig:\n",
    "        tslist = trial['ts']\n",
    "        gamlist = trial['gamma']\n",
    "        sfts = tslist[0]\n",
    "        psv3_sig.append(sfts)\n",
    "    #print(psv2_sig)    \n",
    "    psv3_sig = np.array(psv3_sig)\n",
    "    print(ns, len(psv3_sig[psv3_sig>bgmed_psv3])/float(len(psv3_sig)), len(psv3_sig))\n",
    "    eff = len(psv3_sig[psv3_sig>bgmed_psv3])/float(len(psv3_sig))\n",
    "    psv3sighist, psv3sigbins = np.histogram(psv3_sig, bins = np.linspace(0,50,50), density=True)\n",
    "    psv3sighist = np.concatenate([psv3sighist,[0]])\n",
    "    #plt.semilogy(psv3sigbins, psv3sighist, drawstyle='steps-post', color='tab:orange')\n",
    "    ps_v3_effs.append(eff)\n",
    "    nss.append(ns)"
   ]
  },
  {
   "cell_type": "code",
   "execution_count": 9,
   "metadata": {},
   "outputs": [
    {
     "name": "stdout",
     "output_type": "stream",
     "text": [
      "2.0 0.738 1000\n",
      "4.0 0.8845454545454545 1100\n",
      "6.0 0.9481818181818182 1100\n",
      "8.0 0.9736363636363636 1100\n",
      "10.0 0.99 1100\n",
      "12.0 0.9981818181818182 1100\n",
      "14.0 0.9990909090909091 1100\n"
     ]
    }
   ],
   "source": [
    "ntv5bghist, ntv5bgbins = np.histogram(ntv5_bg, bins = np.linspace(0,50,50), density=True)\n",
    "ntv5bghist = np.concatenate([ntv5bghist,[0]])\n",
    "#plt.semilogy(ntv5bgbins, ntv5bghist, drawstyle='steps-post')\n",
    "\n",
    "bgmed_ntv5 = np.median(ntv5_bg)\n",
    "\n",
    "nt_v5_effs = []\n",
    "nss = []\n",
    "for ns in np.arange(2.0, 16.0, 2.0):\n",
    "    ntv5sig = np.load('/data/user/wluszczak/KDE_csky/sigtrials/ntv5/ntv5_sigtrials_%s_ns.npy'%(ns), allow_pickle=True)\n",
    "\n",
    "    ntv5_sig = []\n",
    "    for trial in ntv5sig:\n",
    "        tslist = trial['ts']\n",
    "        gamlist = trial['gamma']\n",
    "        sfts = tslist[0]\n",
    "        ntv5_sig.append(sfts)\n",
    "    #print(psv2_sig)    \n",
    "    ntv5_sig = np.array(ntv5_sig)\n",
    "    print(ns, len(ntv5_sig[ntv5_sig>bgmed_ntv5])/float(len(ntv5_sig)), len(ntv5_sig))\n",
    "    eff = len(ntv5_sig[ntv5_sig>bgmed_ntv5])/float(len(ntv5_sig))\n",
    "    ntv5sighist, ntv5sigbins = np.histogram(ntv5_sig, bins = np.linspace(0,50,50), density=True)\n",
    "    ntv5sighist = np.concatenate([ntv5sighist,[0]])\n",
    "    #plt.semilogy(ntv5sigbins, ntv5sighist, drawstyle='steps-post', color='tab:orange')\n",
    "    nt_v5_effs.append(eff)\n",
    "    nss.append(ns)"
   ]
  },
  {
   "cell_type": "code",
   "execution_count": 10,
   "metadata": {},
   "outputs": [
    {
     "data": {
      "text/plain": [
       "<matplotlib.legend.Legend at 0x7f9d5ef61750>"
      ]
     },
     "execution_count": 10,
     "metadata": {},
     "output_type": "execute_result"
    },
    {
     "data": {
      "image/png": "[encoded data removed]",
      "text/plain": [
       "<Figure size 432x288 with 1 Axes>"
      ]
     },
     "metadata": {
      "needs_background": "light"
     },
     "output_type": "display_data"
    }
   ],
   "source": [
    "plt.plot(nss, ps_v2_effs, label='PSv2')\n",
    "plt.plot(nss, ps_v3_effs, label='PSv3')\n",
    "plt.plot(nss, nt_v5_effs, label='NTv5')\n",
    "plt.axhline(0.9, color='k')\n",
    "\n",
    "plt.grid()\n",
    "plt.xlabel(\"ns\")\n",
    "plt.ylabel(\"Efficiency\")\n",
    "plt.legend(loc=0)"
   ]
  },
  {
   "cell_type": "code",
   "execution_count": 12,
   "metadata": {},
   "outputs": [
    {
     "name": "stdout",
     "output_type": "stream",
     "text": [
      "Setting up Analysis for:\n",
      "IC86v3_2012, IC86v3_2013, IC86v3_2014\n",
      "Setting up IC86v3_2012...\n",
      "Energy PDF Ratio Model...\n",
      "  * gamma = 4.0000 ...\n",
      "Signal Acceptance Model...\n",
      "  * gamma = 4.0000 ...\n",
      "Setting up IC86v3_2013...\n",
      "Reading /data/ana/analyses/ps_tracks/version-002-p03/IC86_2013_exp.npy ...\n",
      "Reading /data/ana/analyses/ps_tracks/version-002-p03/GRL/IC86_2013_exp.npy ...\n",
      "Energy PDF Ratio Model...\n",
      "  * gamma = 4.0000 ...\n",
      "Signal Acceptance Model...\n",
      "  * gamma = 4.0000 ...\n",
      "Setting up IC86v3_2014...\n",
      "Reading /data/ana/analyses/ps_tracks/version-002-p03/IC86_2014_exp.npy ...\n",
      "Reading /data/ana/analyses/ps_tracks/version-002-p03/GRL/IC86_2014_exp.npy ...\n",
      "Energy PDF Ratio Model...\n",
      "  * gamma = 4.0000 ...\n",
      "Signal Acceptance Model...\n",
      "  * gamma = 4.0000 ...\n",
      "Done.\n",
      "Setting up Analysis for:\n",
      "IC86v3_2012, IC86v3_2013, IC86v3_2014\n",
      "Setting up IC86v3_2012...\n",
      "Reading /data/ana/analyses/ps_tracks/version-003-p02/IC86_2012_MC.npy ...\n",
      "Reading /data/ana/analyses/ps_tracks/version-003-p02/IC86_2012_exp.npy ...\n",
      "Reading /data/ana/analyses/ps_tracks/version-003-p02/GRL/IC86_2012_exp.npy ...\n",
      "Energy PDF Ratio Model...\n",
      "  * gamma = 4.0000 ...\n",
      "Signal Acceptance Model...\n",
      "  * gamma = 4.0000 ...\n",
      "Setting up IC86v3_2013...\n",
      "Reading /data/ana/analyses/ps_tracks/version-003-p02/IC86_2013_exp.npy ...\n",
      "Reading /data/ana/analyses/ps_tracks/version-003-p02/GRL/IC86_2013_exp.npy ...\n",
      "Energy PDF Ratio Model...\n",
      "  * gamma = 4.0000 ...\n",
      "Signal Acceptance Model...\n",
      "  * gamma = 4.0000 ...\n",
      "Setting up IC86v3_2014...\n",
      "Reading /data/ana/analyses/ps_tracks/version-003-p02/IC86_2014_exp.npy ...\n",
      "Reading /data/ana/analyses/ps_tracks/version-003-p02/GRL/IC86_2014_exp.npy ...\n",
      "Energy PDF Ratio Model...\n",
      "  * gamma = 4.0000 ...\n",
      "Signal Acceptance Model...\n",
      "  * gamma = 4.0000 ...\n",
      "Done.\n",
      "Setting up Analysis for:\n",
      "NT86v5_2012_2014\n",
      "Setting up NT86v5_2012_2014...\n",
      "Reading /data/ana/analyses/northern_tracks/version-005-p01/IC86_pass2_MC.npy ...\n",
      "Reading /data/ana/analyses/northern_tracks/version-005-p01/IC86_2012_exp.npy ...\n",
      "Reading /data/ana/analyses/northern_tracks/version-005-p01/IC86_2013_exp.npy ...\n",
      "Reading /data/ana/analyses/northern_tracks/version-005-p01/IC86_2014_exp.npy ...\n",
      "Reading /data/ana/analyses/northern_tracks/version-005-p01/GRL/IC86_2012_exp.npy ...\n",
      "Reading /data/ana/analyses/northern_tracks/version-005-p01/GRL/IC86_2013_exp.npy ...\n",
      "Reading /data/ana/analyses/northern_tracks/version-005-p01/GRL/IC86_2014_exp.npy ...\n",
      "Energy PDF Ratio Model...\n",
      "  * gamma = 4.0000 ...\n",
      "Signal Acceptance Model...\n",
      "  * gamma = 4.0000 ...\n",
      "Done.\n"
     ]
    }
   ],
   "source": [
    "ana_psv2 = cy.get_analysis(cy.selections.repo, 'version-002-p03', cy.selections.PSDataSpecs.ps_10yr_separate[-6:-3])\n",
    "ana_psv3 = cy.get_analysis(cy.selections.repo, 'version-003-p02', cy.selections.PSDataSpecs.ps_10yr_separate[-6:-3])\n",
    "ana_ntv5 = cy.get_analysis(cy.selections.repo, 'version-005-p01', cy.selections.NTDataSpecs.nt_txs[0:1], min_sigma=0.0)"
   ]
  },
  {
   "cell_type": "code",
   "execution_count": null,
   "metadata": {},
   "outputs": [],
   "source": [
    "src = cy.sources(1.35049651, 0.09828762, name=50579430)\n",
    "\n",
    "tr_psv2 = cy.get_trial_runner(ana = ana_psv2, src=src)\n",
    "psv2_livetime = 0.\n",
    "for a in ana_psv2:\n",
    "    psv2_livetime+=a.livetime\n",
    "    \n",
    "tr_psv3 = cy.get_trial_runner(ana = ana_psv3, src=src)\n",
    "psv3_livetime = 0.\n",
    "for a in ana_psv3:\n",
    "    psv3_livetime+=a.livetime\n",
    "    \n",
    "tr_ntv5 = cy.get_trial_runner(ana = ana_ntv5, src=src)\n",
    "ntv5_livetime = 0.\n",
    "for a in ana_ntv5:\n",
    "    ntv5_livetime+=a.livetime"
   ]
  },
  {
   "cell_type": "code",
   "execution_count": null,
   "metadata": {},
   "outputs": [],
   "source": [
    "flux_v2 = [tr_psv2.to_dNdE(n*psv2_livetime/1.365e+7, E0=100, unit=1e3, gamma=2.2) for n in nss]\n",
    "print(flux_v2)\n",
    "\n",
    "flux_v3 = [tr_psv3.to_dNdE(n*psv3_livetime/1.365e+7, E0=100, unit=1e3, gamma=2.2) for n in nss]\n",
    "print(flux_v3)\n",
    "\n",
    "flux_ntv5 = [tr_ntv5.to_dNdE(n*ntv5_livetime/1.365e+7, E0=100, unit=1e3, gamma=2.2) for n in nss]\n",
    "print(flux_ntv5)\n",
    "\n",
    "plt.plot(flux_v2, ps_v2_effs, label='PSv2')\n",
    "plt.plot(flux_v3, ps_v3_effs, label='PSv3')\n",
    "plt.plot(flux_ntv5, nt_v5_effs, label='NTv5')\n",
    "plt.axhline(0.9, color='k')\n",
    "\n",
    "plt.grid()\n",
    "plt.xlabel(\"Avg Flare Flux [$TeV^{-1} cm^{-2} s^{-1}$]\")\n",
    "plt.ylabel(\"Efficiency\")\n",
    "plt.legend(loc=0)"
   ]
  }
 ],
 "metadata": {
  "kernelspec": {
   "display_name": "Python 3",
   "language": "python",
   "name": "python3"
  },
  "language_info": {
   "codemirror_mode": {
    "name": "ipython",
    "version": 3
   },
   "file_extension": ".py",
   "mimetype": "text/x-python",
   "name": "python",
   "nbconvert_exporter": "python",
   "pygments_lexer": "ipython3",
   "version": "3.7.5"
  }
 },
 "nbformat": 4,
 "nbformat_minor": 2
}
