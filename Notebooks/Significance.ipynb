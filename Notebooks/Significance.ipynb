{
 "cells": [
  {
   "cell_type": "code",
   "execution_count": 1,
   "metadata": {},
   "outputs": [],
   "source": [
    "import numpy as np\n",
    "import matplotlib.pyplot as plt\n",
    "import csky as cy\n",
    "from scipy import stats\n",
    "import glob\n",
    "import matplotlib.cm as cm\n",
    "import matplotlib as mpl\n",
    "from scipy.optimize import curve_fit\n",
    "\n",
    "mpl.rcParams['xtick.labelsize']=18\n",
    "mpl.rcParams['ytick.labelsize']=18\n",
    "mpl.rcParams['axes.labelsize']=24\n",
    "mpl.rcParams['lines.linewidth']=3\n",
    "mpl.rcParams['patch.linewidth']=3\n",
    "mpl.rcParams['legend.fontsize']=14\n",
    "mpl.rcParams['axes.titlesize']=24\n",
    "mpl.rcParams.update({'figure.autolayout': True})\n",
    "mpl.rcParams['figure.figsize'] = 10, 6\n",
    "mpl.rcParams['font.family'] = 'sans-serif'"
   ]
  },
  {
   "cell_type": "code",
   "execution_count": 5,
   "metadata": {},
   "outputs": [],
   "source": [
    "def get_flarelist(srcid, trial):\n",
    "    flist = trial[srcid]\n",
    "    if len(flist)!=0.:\n",
    "        farr = np.empty(len(flist), dtype=[('tstart', float), ('tstop', float), ('ts', float), ('ns', float), ('gamma', float)])\n",
    "        farr['tstart'] = flist.mjd_start\n",
    "        farr['tstop'] = flist.mjd_end\n",
    "        farr['ts'] = flist.ts\n",
    "        farr['ns'] = flist.ns\n",
    "        farr['gamma'] = flist.gamma\n",
    "    else:\n",
    "        farr = np.empty(1, dtype=[('tstart', float), ('tstop', float), ('ts', float), ('ns', float), ('gamma', float)])\n",
    "        farr['tstart'] = [0.]\n",
    "        farr['tstop'] = [0.]\n",
    "        farr['ts'] = [0.]\n",
    "        farr['ns'] = [0.]\n",
    "        farr['gamma'] = [0.]\n",
    "    return farr\n",
    "\n",
    "\n",
    "def fit_chi2(tsarr):\n",
    "    fithist, fitbins = np.histogram(tsarr, bins = np.linspace(0,30,30), density=True)\n",
    "    fitbins = fitbins[:-1]\n",
    "    #fithist = np.log10(fithist)\n",
    "    #plt.plot(fitbins, fithist, drawstyle='steps-post')\n",
    "\n",
    "    fitbin_centers = fitbins+(fitbins[1]-fitbins[0])*0.5\n",
    "\n",
    "\n",
    "    def f(x, ndof, loc, scale):\n",
    "        return stats.gamma.pdf(x, ndof, loc, scale)\n",
    "\n",
    "    fit_x = fitbin_centers[1:15]\n",
    "    fit_y = fithist[1:15]\n",
    "\n",
    "    params, cov = curve_fit(f, fit_x, fit_y)\n",
    "    #print(fit_x, fit_y)\n",
    "    #print(params)\n",
    "\n",
    "    #xplt = np.linspace(0,30,100)\n",
    "    #plt.plot(xplt, f(xplt, params[0], params[1], params[2] ))\n",
    "    #plt.semilogy()\n",
    "    return params"
   ]
  },
  {
   "cell_type": "code",
   "execution_count": 6,
   "metadata": {},
   "outputs": [],
   "source": [
    "psv2_bg = np.load('/data/user/wluszczak/KDE_csky/tdep/bg/old/psv2_bg_combined.npy', allow_pickle=True)\n",
    "\n",
    "sfts_psv2 = []\n",
    "for trial in psv2_bg:\n",
    "    flist = get_flarelist(50579430, trial)\n",
    "    sfts_psv2.append(flist['ts'][0])\n",
    "    \n",
    "fitparams_psv2 = fit_chi2(sfts_psv2)\n",
    "    \n",
    "psv2hist, psv2bins = np.histogram(sfts_psv2, bins = np.linspace(0,40,40), density=True)\n",
    "psv2hist = np.concatenate([psv2hist, [0]])\n",
    "\n",
    "psv2_sig = np.load('/data/user/wluszczak/KDE_csky/tdep/sig/txs_psv2.npy', allow_pickle=True)\n",
    "\n",
    "txsts_psv2 = []\n",
    "sigs_psv2 = []\n",
    "for trial in psv2_sig:\n",
    "    flist = get_flarelist(50579430, trial)\n",
    "    txsts_psv2.append(flist['ts'][0])\n",
    "    p = 1-stats.gamma.cdf(flist['ts'][0], fitparams_psv2[0], fitparams_psv2[1], fitparams_psv2[2])\n",
    "    sig = stats.norm.ppf(1-p)\n",
    "    sigs_psv2.append(sig)\n",
    "    "
   ]
  },
  {
   "cell_type": "code",
   "execution_count": 7,
   "metadata": {},
   "outputs": [],
   "source": [
    "psv3_bg = np.load('/data/user/wluszczak/KDE_csky/tdep/bg/old/psv3_bg_combined.npy', allow_pickle=True)\n",
    "\n",
    "sfts_psv3 = []\n",
    "for trial in psv3_bg:\n",
    "    flist = get_flarelist(50579430, trial)\n",
    "    sfts_psv3.append(flist['ts'][0])\n",
    "    \n",
    "fitparams_psv3 = fit_chi2(sfts_psv3)\n",
    "    \n",
    "psv3hist, psv3bins = np.histogram(sfts_psv3, bins = np.linspace(0,40,40), density=True)\n",
    "psv3hist = np.concatenate([psv3hist, [0]])\n",
    "\n",
    "psv3_sig = np.load('/data/user/wluszczak/KDE_csky/tdep/sig/txs_psv3.npy', allow_pickle=True)\n",
    "\n",
    "txsts_psv3 = []\n",
    "sigs_psv3 = []\n",
    "for trial in psv3_sig:\n",
    "    flist = get_flarelist(50579430, trial)\n",
    "    txsts_psv3.append(flist['ts'][0])\n",
    "    p = 1-stats.gamma.cdf(flist['ts'][0], fitparams_psv3[0], fitparams_psv3[1], fitparams_psv3[2])\n",
    "    sig = stats.norm.ppf(1-p)\n",
    "    sigs_psv3.append(sig)"
   ]
  },
  {
   "cell_type": "code",
   "execution_count": 8,
   "metadata": {},
   "outputs": [],
   "source": [
    "ntv2_bg = np.load('/data/user/wluszczak/KDE_csky/tdep/bg/old/ntv2_bg_combined.npy', allow_pickle=True)\n",
    "\n",
    "sfts_ntv2 = []\n",
    "for trial in ntv2_bg:\n",
    "    flist = get_flarelist(50579430, trial)\n",
    "    sfts_ntv2.append(flist['ts'][0])\n",
    "    \n",
    "fitparams_ntv2 = fit_chi2(sfts_ntv2)\n",
    "    \n",
    "ntv2hist, ntv2bins = np.histogram(sfts_ntv2, bins = np.linspace(0,40,40), density=True)\n",
    "ntv2hist = np.concatenate([ntv2hist, [0]])\n",
    "\n",
    "ntv2_sig = np.load('/data/user/wluszczak/KDE_csky/tdep/sig/txs_ntv2.npy', allow_pickle=True)\n",
    "\n",
    "txsts_ntv2 = []\n",
    "sigs_ntv2 = []\n",
    "for trial in ntv2_sig:\n",
    "    flist = get_flarelist(50579430, trial)\n",
    "    txsts_ntv2.append(flist['ts'][0])\n",
    "    p = 1-stats.gamma.cdf(flist['ts'][0], fitparams_ntv2[0], fitparams_ntv2[1], fitparams_ntv2[2])\n",
    "    sig = stats.norm.ppf(1-p)\n",
    "    sigs_ntv2.append(sig)"
   ]
  },
  {
   "cell_type": "code",
   "execution_count": 9,
   "metadata": {},
   "outputs": [],
   "source": [
    "ntv5_bg = np.load('/data/user/wluszczak/KDE_csky/tdep/bg/old/ntv5_bg_combined.npy', allow_pickle=True)\n",
    "\n",
    "sfts_ntv5 = []\n",
    "for trial in ntv5_bg:\n",
    "    flist = get_flarelist(50579430, trial)\n",
    "    sfts_ntv5.append(flist['ts'][0])\n",
    "    \n",
    "fitparams_ntv5 = fit_chi2(sfts_ntv5)\n",
    "    \n",
    "ntv5hist, ntv5bins = np.histogram(sfts_ntv5, bins = np.linspace(0,40,40), density=True)\n",
    "ntv5hist = np.concatenate([ntv5hist, [0]])\n",
    "\n",
    "ntv5_sig = np.load('/data/user/wluszczak/KDE_csky/tdep/sig/txs_ntv5.npy', allow_pickle=True)\n",
    "\n",
    "txsts_ntv5 = []\n",
    "sigs_ntv5 = []\n",
    "for trial in ntv5_sig:\n",
    "    flist = get_flarelist(50579430, trial)\n",
    "    txsts_ntv5.append(flist['ts'][0])\n",
    "    p = 1-stats.gamma.cdf(flist['ts'][0], fitparams_ntv5[0], fitparams_ntv5[1], fitparams_ntv5[2])\n",
    "    sig = stats.norm.ppf(1-p)\n",
    "    sigs_ntv5.append(sig)\n",
    "    "
   ]
  },
  {
   "cell_type": "code",
   "execution_count": 10,
   "metadata": {},
   "outputs": [
    {
     "data": {
      "text/plain": [
       "Text(0.5,1,'TXS 0506+056 Untriggered Flare Significance')"
      ]
     },
     "execution_count": 10,
     "metadata": {},
     "output_type": "execute_result"
    },
    {
     "name": "stderr",
     "output_type": "stream",
     "text": [
      "/cvmfs/icecube.opensciencegrid.org/py3-v4.1.1/RHEL_7_x86_64/lib/python3.7/site-packages/matplotlib/figure.py:2299: UserWarning: This figure includes Axes that are not compatible with tight_layout, so results might be incorrect.\n",
      "  warnings.warn(\"This figure includes Axes that are not compatible \"\n"
     ]
    },
    {
     "data": {
      "image/png": "[encoded data removed]",
      "text/plain": [
       "<Figure size 720x432 with 1 Axes>"
      ]
     },
     "metadata": {
      "needs_background": "light"
     },
     "output_type": "display_data"
    }
   ],
   "source": [
    "sighist_psv2, sigbins_psv2 = np.histogram(sigs_psv2, bins = np.linspace(0,10,50), density=True)\n",
    "sighist_psv2 = np.concatenate([sighist_psv2,[0]])\n",
    "plt.semilogy(sigbins_psv2, sighist_psv2, drawstyle='steps-post', label='PSv2')\n",
    "\n",
    "sighist_psv3, sigbins_psv3 = np.histogram(sigs_psv3, bins = np.linspace(0,10,50), density=True)\n",
    "sighist_psv3 = np.concatenate([sighist_psv3,[0]])\n",
    "plt.semilogy(sigbins_psv3, sighist_psv3, drawstyle='steps-post', label='PSv3')\n",
    "\n",
    "sighist_ntv2, sigbins_ntv2 = np.histogram(sigs_ntv2, bins = np.linspace(0,10,50), density=True)\n",
    "sighist_ntv2 = np.concatenate([sighist_ntv2,[0]])\n",
    "plt.semilogy(sigbins_ntv2, sighist_ntv2, drawstyle='steps-post', label='NTv2')\n",
    "\n",
    "sighist_ntv5, sigbins_ntv5 = np.histogram(sigs_ntv5, bins = np.linspace(0,10,50), density=True)\n",
    "sighist_ntv5 = np.concatenate([sighist_ntv5,[0]])\n",
    "plt.semilogy(sigbins_ntv5, sighist_ntv5, drawstyle='steps-post', label='NTv5')\n",
    "plt.xlim(0,8)\n",
    "plt.xlabel('Significance [$\\sigma$]')\n",
    "plt.ylabel('N')\n",
    "plt.legend(loc=0)\n",
    "plt.title(\"TXS 0506+056 Untriggered Flare Significance\")"
   ]
  },
  {
   "cell_type": "code",
   "execution_count": null,
   "metadata": {},
   "outputs": [],
   "source": []
  }
 ],
 "metadata": {
  "kernelspec": {
   "display_name": "Python 3",
   "language": "python",
   "name": "python3"
  },
  "language_info": {
   "codemirror_mode": {
    "name": "ipython",
    "version": 3
   },
   "file_extension": ".py",
   "mimetype": "text/x-python",
   "name": "python",
   "nbconvert_exporter": "python",
   "pygments_lexer": "ipython3",
   "version": "3.7.5"
  }
 },
 "nbformat": 4,
 "nbformat_minor": 2
}
